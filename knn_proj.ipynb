{
 "cells": [
  {
   "cell_type": "markdown",
   "metadata": {},
   "source": [
    "# KNN-K Nearest Neighbor Algorithm\n",
    "\n",
    "\n",
    "\n",
    "    "
   ]
  },
  {
   "cell_type": "code",
   "execution_count": null,
   "metadata": {},
   "outputs": [],
   "source": [
    "KNN is simplest Supervised Machine learning Algorithm used for classification.\n",
    "Means, it classifies data on the basis of how its neighbours are classified.\n",
    "Example: Cat and Dog\n",
    "\n",
    "KNN is based on feature Similarity,We can classify different objects using KNN classifier."
   ]
  },
  {
   "cell_type": "markdown",
   "metadata": {},
   "source": [
    "# How KNN Works?\n",
    "\n",
    "KNN makes predictions from the past. It stores all available cases and classifies new cases based on a similarity measure.\n",
    "K in KNN Algorithm is a parametre tha refers to the number of nearest neighbors to include in the majority voting process.for example, if k=5, this means that a data point is classified by majority votes from its 5 nearest neighbours."
   ]
  },
  {
   "cell_type": "markdown",
   "metadata": {},
   "source": [
    "# How Do We Choose K?\n",
    "\n"
   ]
  },
  {
   "cell_type": "code",
   "execution_count": 2,
   "metadata": {},
   "outputs": [
    {
     "ename": "SyntaxError",
     "evalue": "invalid syntax (<ipython-input-2-a51690345a59>, line 1)",
     "output_type": "error",
     "traceback": [
      "\u001b[1;36m  File \u001b[1;32m\"<ipython-input-2-a51690345a59>\"\u001b[1;36m, line \u001b[1;32m1\u001b[0m\n\u001b[1;33m    Parametre Tuning: choosing the right value of k,it is important for better accuracy.\u001b[0m\n\u001b[1;37m                   ^\u001b[0m\n\u001b[1;31mSyntaxError\u001b[0m\u001b[1;31m:\u001b[0m invalid syntax\n"
     ]
    }
   ],
   "source": [
    "Parametre Tuning: choosing the right value of k,it is important for better accuracy.\n",
    "Example: question mark example.(draw it).\n",
    "\n",
    "To choose a value of k,two steps are followed:\n",
    "1.Sqrt(n) where n is the total number of data points.\n",
    "2.Odd value of K is selected to avoid between two classes of data."
   ]
  },
  {
   "cell_type": "markdown",
   "metadata": {},
   "source": [
    "##### Note:\n",
    " Higher value of k means lesser chance of error."
   ]
  },
  {
   "cell_type": "markdown",
   "metadata": {},
   "source": [
    "## When do We Use KNN\n",
    "\n"
   ]
  },
  {
   "cell_type": "code",
   "execution_count": null,
   "metadata": {},
   "outputs": [],
   "source": [
    "We use KNN when:\n",
    "1.Data is labeled.\n",
    "2.Data is noise free. (give example)\n",
    "3.Dataset is small.\n",
    "KNN is a lazy learner.because it memorises the training data instead of learning a discriminative function."
   ]
  },
  {
   "cell_type": "code",
   "execution_count": 3,
   "metadata": {},
   "outputs": [],
   "source": [
    "##Applications\n",
    "Amazon,Relevant ads etc."
   ]
  },
  {
   "cell_type": "markdown",
   "metadata": {},
   "source": [
    "### How does KNN Algorithm Works?"
   ]
  },
  {
   "cell_type": "code",
   "execution_count": null,
   "metadata": {},
   "outputs": [],
   "source": [
    "Consider a data set having two variables, height(cm) and weight(kg) and each point is classified as Normal or Underwght.\n",
    "\n",
    "HEIGHT   WEIGHT\n",
    "167       51\n",
    "182       62\n",
    "176       69\n",
    "173       64\n",
    "172       65\n",
    "174       56"
   ]
  },
  {
   "cell_type": "code",
   "execution_count": null,
   "metadata": {
    "collapsed": true
   },
   "outputs": [],
   "source": [
    "On the basis of given data we have to classify the below set as Normal or Underweight using KNN.\n",
    "Assuming that we dont know how to calcuate BMI\n",
    "\n",
    "weight   height  class\n",
    "57 KG    170cm    ?\n",
    "\n",
    "To find the nearest neighbors, we will calculate Eclidean distance.\n",
    "(Draw it)\n",
    "We will calculate distance of unknown data from all datapoints in the data set.\n",
    "Let suppose we have total 10 datapoints, means n=10,then\n",
    "sqrt(10) = 3.1\n",
    "so k= 3 \n",
    "this means that we will classify the unknown datapoint by comparing it with three nearest neighbors."
   ]
  },
  {
   "cell_type": "markdown",
   "metadata": {},
   "source": [
    "#### Note"
   ]
  },
  {
   "cell_type": "code",
   "execution_count": null,
   "metadata": {},
   "outputs": [],
   "source": [
    "1. A positive integer K is specified along with the new sample.\n",
    "2.We select the K entries in our database which are closest to the new sample.\n",
    "3.We find the most common classification of these entries.\n",
    "4.This classification is assigned to the new sample."
   ]
  },
  {
   "cell_type": "markdown",
   "metadata": {},
   "source": [
    "### Predictions on Iris dataset\n"
   ]
  },
  {
   "cell_type": "raw",
   "metadata": {},
   "source": [
    "Iris dataset is very popular dataset.It has four features and One class label.\n",
    "The four features are the sepal length,sepal width,petal length and petal width.\n",
    "These four features decide the type of flower i.e, setosa, vercicolor or virginica."
   ]
  },
  {
   "cell_type": "code",
   "execution_count": 18,
   "metadata": {},
   "outputs": [],
   "source": [
    "import csv\n",
    "import random\n",
    "import pandas as pd\n",
    "import numpy as np\n",
    "import matplotlib.pyplot as plt\n",
    "import math as mt\n",
    "from numpy.random import RandomState\n"
   ]
  },
  {
   "cell_type": "code",
   "execution_count": 21,
   "metadata": {},
   "outputs": [],
   "source": [
    "train=[]\n",
    "test=[]\n",
    "#LoadDataSet\n",
    "def LoadDataSet(filename,ratio,train,test):\n",
    "    with open(filename,'r') as csvfile:\n",
    "        lines=csv.reader(csvfile)\n",
    "        dataset=list(lines)\n",
    "        for i in range (len(dataset)-1):\n",
    "            for j in range(4):\n",
    "                if random.random()<ratio:                 #dataset[i][j]=(float)dataset[i][j]\n",
    "                    train.append(dataset[i])\n",
    "                else:\n",
    "                    test.append(dataset[i])"
   ]
  },
  {
   "cell_type": "code",
   "execution_count": 22,
   "metadata": {},
   "outputs": [
    {
     "name": "stdout",
     "output_type": "stream",
     "text": [
      "391\n",
      "209\n",
      "<class 'list'>\n"
     ]
    }
   ],
   "source": [
    "LoadDataSet('Iris.csv',0.66,train,test)\n",
    "print(len(train))\n",
    "print(len(test))\n",
    "print(type(train))"
   ]
  },
  {
   "cell_type": "code",
   "execution_count": 26,
   "metadata": {},
   "outputs": [],
   "source": [
    "def CalculateDistance(Point1,Point2,leng):\n",
    "    dist=0\n",
    "    for i in range(1,leng):\n",
    "        dist +=pow((Point1[i]-Point2[i]),2)\n",
    "    return mt.sqrt(dist)    "
   ]
  },
  {
   "cell_type": "code",
   "execution_count": 39,
   "metadata": {},
   "outputs": [],
   "source": [
    "import operator"
   ]
  },
  {
   "cell_type": "code",
   "execution_count": 46,
   "metadata": {},
   "outputs": [],
   "source": [
    "def RetNeighbors(train, tst, k):\n",
    "    distances = []\n",
    "    leng = len(tst)-1\n",
    "    for i in range(len(train)):\n",
    "        dist = CalculateDistance(tst,train[i], leng)\n",
    "        distances.append((train[i],dist))\n",
    "    distances.sort(key=operator.itemgetter(1))\n",
    "    Neighbors = []\n",
    "    for i in range(k):\n",
    "        Neighbors.append(distances[i][0])  \n",
    "    return Neighbors"
   ]
  },
  {
   "cell_type": "code",
   "execution_count": 48,
   "metadata": {},
   "outputs": [
    {
     "name": "stdout",
     "output_type": "stream",
     "text": [
      "[[4, 4, 4, 'b']]\n"
     ]
    }
   ],
   "source": [
    "traini=[[2,2,2,'a'],[4,4,4,'b']]\n",
    "tst=[5,5,5]\n",
    "Nbr=RetNeighbors(traini, tst, 1)\n",
    "print(Nbr)"
   ]
  },
  {
   "cell_type": "code",
   "execution_count": 52,
   "metadata": {},
   "outputs": [],
   "source": [
    "#Return a list of most common classes yahan se kaam start krna ha\n",
    "def Save_Classes(Nbr,train):\n",
    "    classes= []\n",
    "    for i in range(len(Nbr)):\n",
    "        idx=int(Nbr[i][0])\n",
    "        classes.append(train[idx][5])\n",
    "    print(classes)    \n",
    "    "
   ]
  },
  {
   "cell_type": "code",
   "execution_count": 58,
   "metadata": {},
   "outputs": [
    {
     "name": "stdout",
     "output_type": "stream",
     "text": [
      "['Species', 'Species', 'Iris-setosa']\n"
     ]
    }
   ],
   "source": [
    "Nabr=[[1,1,1,'a'],[2,2,2,'a'],[3,3,3,'b']]\n",
    "Save_Classes(Nabr,train)"
   ]
  },
  {
   "cell_type": "code",
   "execution_count": null,
   "metadata": {},
   "outputs": [],
   "source": [
    "def GetAccuracy()+Main function bnany wala reh gya h"
   ]
  },
  {
   "cell_type": "code",
   "execution_count": null,
   "metadata": {},
   "outputs": [],
   "source": []
  }
 ],
 "metadata": {
  "kernelspec": {
   "display_name": "Python 3",
   "language": "python",
   "name": "python3"
  },
  "language_info": {
   "codemirror_mode": {
    "name": "ipython",
    "version": 3
   },
   "file_extension": ".py",
   "mimetype": "text/x-python",
   "name": "python",
   "nbconvert_exporter": "python",
   "pygments_lexer": "ipython3",
   "version": "3.7.4"
  }
 },
 "nbformat": 4,
 "nbformat_minor": 2
}
